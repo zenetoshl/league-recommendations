{
 "cells": [
  {
   "cell_type": "code",
   "execution_count": 1,
   "metadata": {},
   "outputs": [],
   "source": [
    "import pandas as pd\n",
    "import requests\n",
    "import json"
   ]
  },
  {
   "cell_type": "code",
   "execution_count": 2,
   "metadata": {},
   "outputs": [
    {
     "name": "stderr",
     "output_type": "stream",
     "text": [
      "C:\\Users\\thiag\\anaconda3\\lib\\site-packages\\IPython\\core\\interactiveshell.py:3146: DtypeWarning: Columns (55,56) have mixed types.Specify dtype option on import or set low_memory=False.\n",
      "  has_raised = await self.run_ast_nodes(code_ast.body, cell_name,\n"
     ]
    }
   ],
   "source": [
    "champid = pd.read_csv('championsId.csv')\n",
    "champ = champ = pd.read_csv('participants.csv')\n",
    "champ = champ.loc[champ['gameDuration'] > 1200]"
   ]
  },
  {
   "cell_type": "code",
   "execution_count": 3,
   "metadata": {},
   "outputs": [],
   "source": [
    "def conv_tags(tag):\n",
    "    return tag.replace(r\"'\", '').replace(r\"]\", '').replace(r\"[\", '').replace(' ', '')\n",
    "\n",
    "champid['Champion Category'] = champid['Champion Category'].map(conv_tags)\n",
    "champid.set_index('id', inplace=True)"
   ]
  },
  {
   "cell_type": "code",
   "execution_count": 4,
   "metadata": {},
   "outputs": [
    {
     "name": "stderr",
     "output_type": "stream",
     "text": [
      "<ipython-input-4-969e35403f8a>:3: SettingWithCopyWarning: \n",
      "A value is trying to be set on a copy of a slice from a DataFrame\n",
      "\n",
      "See the caveats in the documentation: https://pandas.pydata.org/pandas-docs/stable/user_guide/indexing.html#returning-a-view-versus-a-copy\n",
      "  champ['tags'][i] = champid['Champion Category'][champ['championId'][i]]\n"
     ]
    }
   ],
   "source": [
    "champ['tags'] = ''\n",
    "for i in champ.index:\n",
    "    champ['tags'][i] = champid['Champion Category'][champ['championId'][i]]"
   ]
  },
  {
   "cell_type": "code",
   "execution_count": 5,
   "metadata": {},
   "outputs": [],
   "source": [
    "novo = champ['tags'].str.get_dummies(',')\n",
    "champ.drop(columns='tags', inplace=True)\n",
    "champ['Assassin'] = novo['Assassin']\n",
    "champ['Fighter'] = novo['Fighter']\n",
    "champ['Mage'] = novo['Mage']\n",
    "champ['Marksman'] = novo['Marksman']\n",
    "champ['Support'] = novo['Support']\n",
    "champ['Tank'] = novo['Tank']"
   ]
  },
  {
   "cell_type": "code",
   "execution_count": 7,
   "metadata": {},
   "outputs": [],
   "source": [
    "champ.to_csv('participants_modified.csv')"
   ]
  },
  {
   "cell_type": "code",
   "execution_count": null,
   "metadata": {},
   "outputs": [],
   "source": []
  }
 ],
 "metadata": {
  "kernelspec": {
   "display_name": "Python 3",
   "language": "python",
   "name": "python3"
  },
  "language_info": {
   "codemirror_mode": {
    "name": "ipython",
    "version": 3
   },
   "file_extension": ".py",
   "mimetype": "text/x-python",
   "name": "python",
   "nbconvert_exporter": "python",
   "pygments_lexer": "ipython3",
   "version": "3.8.5"
  }
 },
 "nbformat": 4,
 "nbformat_minor": 4
}
