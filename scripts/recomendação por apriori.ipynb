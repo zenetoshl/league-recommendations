{
 "cells": [
  {
   "cell_type": "code",
   "execution_count": 1,
   "metadata": {},
   "outputs": [],
   "source": [
    "import pandas as pd\n",
    "import numpy as np\n",
    "import requests\n",
    "import json\n",
    "from collections import Counter"
   ]
  },
  {
   "cell_type": "code",
   "execution_count": 2,
   "metadata": {},
   "outputs": [],
   "source": [
    "from mlxtend.preprocessing import TransactionEncoder\n",
    "from mlxtend.frequent_patterns import apriori\n",
    "from mlxtend.frequent_patterns import association_rules"
   ]
  },
  {
   "cell_type": "code",
   "execution_count": 3,
   "metadata": {},
   "outputs": [],
   "source": [
    "def CountList(e):\n",
    "    return Counter(e)\n",
    "def Uniquefy(e):\n",
    "    return list(set(e))"
   ]
  },
  {
   "cell_type": "code",
   "execution_count": 4,
   "metadata": {},
   "outputs": [
    {
     "name": "stderr",
     "output_type": "stream",
     "text": [
      "/home/neto/.local/lib/python3.8/site-packages/IPython/core/interactiveshell.py:3165: DtypeWarning: Columns (55,56) have mixed types.Specify dtype option on import or set low_memory=False.\n",
      "  has_raised = await self.run_ast_nodes(code_ast.body, cell_name,\n"
     ]
    }
   ],
   "source": [
    "# Leitura do dataset\n",
    "champ = pd.read_csv('participants.csv')\n",
    "champ = champ.loc[champ['gameDuration'] > 1500]\n",
    "champ['played'] = 1"
   ]
  },
  {
   "cell_type": "code",
   "execution_count": 5,
   "metadata": {},
   "outputs": [],
   "source": [
    "gpby = champ.groupby(['participantId'])['championId'].apply(list).reset_index(name='championsPlayed')\n",
    "gpby['count'] = gpby['championsPlayed'].apply(len)\n",
    "gpby = gpby.loc[gpby['count'] > 5]"
   ]
  },
  {
   "cell_type": "code",
   "execution_count": 6,
   "metadata": {},
   "outputs": [
    {
     "data": {
      "text/html": [
       "<div>\n",
       "<style scoped>\n",
       "    .dataframe tbody tr th:only-of-type {\n",
       "        vertical-align: middle;\n",
       "    }\n",
       "\n",
       "    .dataframe tbody tr th {\n",
       "        vertical-align: top;\n",
       "    }\n",
       "\n",
       "    .dataframe thead th {\n",
       "        text-align: right;\n",
       "    }\n",
       "</style>\n",
       "<table border=\"1\" class=\"dataframe\">\n",
       "  <thead>\n",
       "    <tr style=\"text-align: right;\">\n",
       "      <th></th>\n",
       "      <th>participantId</th>\n",
       "      <th>championsPlayed</th>\n",
       "      <th>played</th>\n",
       "    </tr>\n",
       "  </thead>\n",
       "  <tbody>\n",
       "    <tr>\n",
       "      <th>0</th>\n",
       "      <td>--Ju_A1b8ZlsnI5b8qovR9jFOOtJ4Ae1xmfIeX0V_ZBjqC...</td>\n",
       "      <td>14</td>\n",
       "      <td>1</td>\n",
       "    </tr>\n",
       "    <tr>\n",
       "      <th>0</th>\n",
       "      <td>--Ju_A1b8ZlsnI5b8qovR9jFOOtJ4Ae1xmfIeX0V_ZBjqC...</td>\n",
       "      <td>84</td>\n",
       "      <td>1</td>\n",
       "    </tr>\n",
       "    <tr>\n",
       "      <th>0</th>\n",
       "      <td>--Ju_A1b8ZlsnI5b8qovR9jFOOtJ4Ae1xmfIeX0V_ZBjqC...</td>\n",
       "      <td>62</td>\n",
       "      <td>1</td>\n",
       "    </tr>\n",
       "    <tr>\n",
       "      <th>0</th>\n",
       "      <td>--Ju_A1b8ZlsnI5b8qovR9jFOOtJ4Ae1xmfIeX0V_ZBjqC...</td>\n",
       "      <td>164</td>\n",
       "      <td>1</td>\n",
       "    </tr>\n",
       "    <tr>\n",
       "      <th>0</th>\n",
       "      <td>--Ju_A1b8ZlsnI5b8qovR9jFOOtJ4Ae1xmfIeX0V_ZBjqC...</td>\n",
       "      <td>106</td>\n",
       "      <td>1</td>\n",
       "    </tr>\n",
       "    <tr>\n",
       "      <th>...</th>\n",
       "      <td>...</td>\n",
       "      <td>...</td>\n",
       "      <td>...</td>\n",
       "    </tr>\n",
       "    <tr>\n",
       "      <th>8096</th>\n",
       "      <td>zzy0pGrzLeoBMCdUwni5AGJ520w0rGROfBCThrSkViN85RA</td>\n",
       "      <td>3</td>\n",
       "      <td>1</td>\n",
       "    </tr>\n",
       "    <tr>\n",
       "      <th>8096</th>\n",
       "      <td>zzy0pGrzLeoBMCdUwni5AGJ520w0rGROfBCThrSkViN85RA</td>\n",
       "      <td>147</td>\n",
       "      <td>1</td>\n",
       "    </tr>\n",
       "    <tr>\n",
       "      <th>8096</th>\n",
       "      <td>zzy0pGrzLeoBMCdUwni5AGJ520w0rGROfBCThrSkViN85RA</td>\n",
       "      <td>12</td>\n",
       "      <td>1</td>\n",
       "    </tr>\n",
       "    <tr>\n",
       "      <th>8096</th>\n",
       "      <td>zzy0pGrzLeoBMCdUwni5AGJ520w0rGROfBCThrSkViN85RA</td>\n",
       "      <td>12</td>\n",
       "      <td>1</td>\n",
       "    </tr>\n",
       "    <tr>\n",
       "      <th>8096</th>\n",
       "      <td>zzy0pGrzLeoBMCdUwni5AGJ520w0rGROfBCThrSkViN85RA</td>\n",
       "      <td>43</td>\n",
       "      <td>1</td>\n",
       "    </tr>\n",
       "  </tbody>\n",
       "</table>\n",
       "<p>68884 rows × 3 columns</p>\n",
       "</div>"
      ],
      "text/plain": [
       "                                          participantId championsPlayed  \\\n",
       "0     --Ju_A1b8ZlsnI5b8qovR9jFOOtJ4Ae1xmfIeX0V_ZBjqC...              14   \n",
       "0     --Ju_A1b8ZlsnI5b8qovR9jFOOtJ4Ae1xmfIeX0V_ZBjqC...              84   \n",
       "0     --Ju_A1b8ZlsnI5b8qovR9jFOOtJ4Ae1xmfIeX0V_ZBjqC...              62   \n",
       "0     --Ju_A1b8ZlsnI5b8qovR9jFOOtJ4Ae1xmfIeX0V_ZBjqC...             164   \n",
       "0     --Ju_A1b8ZlsnI5b8qovR9jFOOtJ4Ae1xmfIeX0V_ZBjqC...             106   \n",
       "...                                                 ...             ...   \n",
       "8096    zzy0pGrzLeoBMCdUwni5AGJ520w0rGROfBCThrSkViN85RA               3   \n",
       "8096    zzy0pGrzLeoBMCdUwni5AGJ520w0rGROfBCThrSkViN85RA             147   \n",
       "8096    zzy0pGrzLeoBMCdUwni5AGJ520w0rGROfBCThrSkViN85RA              12   \n",
       "8096    zzy0pGrzLeoBMCdUwni5AGJ520w0rGROfBCThrSkViN85RA              12   \n",
       "8096    zzy0pGrzLeoBMCdUwni5AGJ520w0rGROfBCThrSkViN85RA              43   \n",
       "\n",
       "      played  \n",
       "0          1  \n",
       "0          1  \n",
       "0          1  \n",
       "0          1  \n",
       "0          1  \n",
       "...      ...  \n",
       "8096       1  \n",
       "8096       1  \n",
       "8096       1  \n",
       "8096       1  \n",
       "8096       1  \n",
       "\n",
       "[68884 rows x 3 columns]"
      ]
     },
     "execution_count": 6,
     "metadata": {},
     "output_type": "execute_result"
    }
   ],
   "source": [
    "df_usable = gpby.explode('championsPlayed')\n",
    "df_usable['played'] = 1\n",
    "df_usable.drop('count',axis='columns', inplace=True)\n",
    "df_usable"
   ]
  },
  {
   "cell_type": "code",
   "execution_count": 7,
   "metadata": {},
   "outputs": [
    {
     "data": {
      "text/plain": [
       "participantId                                             championsPlayed\n",
       "--Ju_A1b8ZlsnI5b8qovR9jFOOtJ4Ae1xmfIeX0V_ZBjqCsNQ3IshLwd  6                  4\n",
       "                                                          14                 2\n",
       "                                                          24                 2\n",
       "                                                          31                 2\n",
       "                                                          39                 3\n",
       "                                                                            ..\n",
       "zzy0pGrzLeoBMCdUwni5AGJ520w0rGROfBCThrSkViN85RA           117                1\n",
       "                                                          147                5\n",
       "                                                          201                1\n",
       "                                                          235                2\n",
       "                                                          526                3\n",
       "Name: played, Length: 14118, dtype: int64"
      ]
     },
     "execution_count": 7,
     "metadata": {},
     "output_type": "execute_result"
    }
   ],
   "source": [
    "df_grouped = df_usable.groupby(['participantId', 'championsPlayed'])['played'].sum()\n",
    "cesta = df_grouped.unstack(fill_value=0)\n",
    "cesta.reset_index().set_index('participantId')\n",
    "df_grouped"
   ]
  },
  {
   "cell_type": "code",
   "execution_count": 8,
   "metadata": {},
   "outputs": [],
   "source": [
    "def encode_units(x):\n",
    "    if x <= 0:\n",
    "        return 0\n",
    "    if x >= 1:\n",
    "        return 1\n",
    "\n",
    "cesta = cesta.applymap(encode_units)\n",
    "frequent_itemset = apriori(cesta, min_support=0.01, use_colnames=True)"
   ]
  },
  {
   "cell_type": "code",
   "execution_count": 18,
   "metadata": {},
   "outputs": [],
   "source": [
    "recommendList = []\n",
    "for i in [12, 111, 497]:\n",
    "    def compare (a):\n",
    "        return a.__contains__(i)\n",
    "    rules = association_rules(frequent_itemset,metric=\"confidence\",min_threshold=0.01)\n",
    "    rules_test = rules[rules['antecedents'].map(compare)]\n",
    "    lists = rules_test.sort_values('support', ascending=False).head(5)['consequents'].tolist()\n",
    "    mapItemset = map(list, lists)\n",
    "    listItems = list(mapItemset)\n",
    "    newList = []\n",
    "    for l in listItems:\n",
    "        newList.extend(l)\n",
    "    recommendList.extend(newList)\n",
    "recommendList = [s for s in recommendList if s not in [12, 111, 497]]\n",
    "recommendCount = CountList(recommendList)"
   ]
  },
  {
   "cell_type": "code",
   "execution_count": 19,
   "metadata": {},
   "outputs": [
    {
     "data": {
      "text/plain": [
       "Counter({412: 3, 43: 3, 89: 3, 235: 2, 526: 1})"
      ]
     },
     "execution_count": 19,
     "metadata": {},
     "output_type": "execute_result"
    }
   ],
   "source": [
    "recommendCount"
   ]
  },
  {
   "cell_type": "code",
   "execution_count": 25,
   "metadata": {},
   "outputs": [],
   "source": [
    "recommendCount = dict(sorted(recommendCount.items(), key=lambda item: item[1], reverse=True))"
   ]
  },
  {
   "cell_type": "code",
   "execution_count": 32,
   "metadata": {},
   "outputs": [
    {
     "data": {
      "text/plain": [
       "[412, 43, 89]"
      ]
     },
     "execution_count": 32,
     "metadata": {},
     "output_type": "execute_result"
    }
   ],
   "source": [
    "list(recommendCount.keys())[0:5]"
   ]
  },
  {
   "cell_type": "code",
   "execution_count": null,
   "metadata": {},
   "outputs": [],
   "source": []
  }
 ],
 "metadata": {
  "kernelspec": {
   "display_name": "Python 3",
   "language": "python",
   "name": "python3"
  },
  "language_info": {
   "codemirror_mode": {
    "name": "ipython",
    "version": 3
   },
   "file_extension": ".py",
   "mimetype": "text/x-python",
   "name": "python",
   "nbconvert_exporter": "python",
   "pygments_lexer": "ipython3",
   "version": "3.8.5"
  }
 },
 "nbformat": 4,
 "nbformat_minor": 4
}
